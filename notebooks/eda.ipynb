{
 "cells": [
  {
   "cell_type": "markdown",
   "id": "a7162faf",
   "metadata": {},
   "source": [
    "# Desenrola Brasil — Análise Estatística"
   ]
  },
  {
   "cell_type": "markdown",
   "id": "4993d16f",
   "metadata": {},
   "source": [
    "## 🔍 O que é o Desenrola Brasil?\n",
    "\n",
    "O **Desenrola Brasil** é um programa criado pelo **Governo Federal** com o objetivo de **ajudar milhões de brasileiros a saírem da inadimplência**, oferecendo a oportunidade de **negociar dívidas com condições especiais**, como descontos significativos e prazos mais flexíveis de pagamento.\n",
    "\n",
    "Lançado em 2023, o programa foi pensado para **movimentar a economia, reduzir a inadimplência** e promover o **reingresso das pessoas no mercado de crédito**. Ele envolve uma parceria entre o governo, instituições financeiras e empresas credoras, funcionando como uma ponte para facilitar acordos de forma acessível.\n",
    "\n",
    "### 🧾 Como funciona?\n",
    "\n",
    "O Desenrola Brasil é dividido em **duas faixas de atendimento**, com critérios específicos:\n",
    "\n",
    "- **Faixa 1**: Destinada a pessoas com **renda mensal de até 2 salários mínimos** ou inscritas no **CadÚnico** (Cadastro Único para Programas Sociais). Nesta faixa, as dívidas bancárias e não bancárias (como contas de água, luz, varejo e telefonia) podem ser negociadas com **descontos de até 96%** e parcelamento em até **60 vezes**.\n",
    "  \n",
    "- **Faixa 2**: Foca em pessoas com **renda de até R$ 20 mil por mês**, para negociações diretas com os bancos, que oferecem condições especiais para regularização de débitos.\n",
    "\n",
    "Além disso, o programa também possibilita a **limpeza do nome nos birôs de crédito**, o que pode abrir portas para novos financiamentos, cartões ou financiamentos habitacionais, por exemplo.\n",
    "\n",
    "### 📈 Impacto\n",
    "\n",
    "Desde seu lançamento, o Desenrola Brasil já impactou **milhões de brasileiros**, tendo registrado altos volumes de negociação nas primeiras semanas de funcionamento. O programa tem sido considerado uma das maiores iniciativas públicas de renegociação de dívidas da história do país.\n"
   ]
  },
  {
   "cell_type": "markdown",
   "id": "be03177f",
   "metadata": {},
   "source": [
    "# Importação das Bibliotecas"
   ]
  },
  {
   "cell_type": "code",
   "execution_count": 1,
   "id": "8cafb682",
   "metadata": {},
   "outputs": [
    {
     "ename": "ModuleNotFoundError",
     "evalue": "No module named 'pandas'",
     "output_type": "error",
     "traceback": [
      "\u001b[31m---------------------------------------------------------------------------\u001b[39m",
      "\u001b[31mModuleNotFoundError\u001b[39m                       Traceback (most recent call last)",
      "\u001b[36mCell\u001b[39m\u001b[36m \u001b[39m\u001b[32mIn[1]\u001b[39m\u001b[32m, line 1\u001b[39m\n\u001b[32m----> \u001b[39m\u001b[32m1\u001b[39m \u001b[38;5;28;01mimport\u001b[39;00m\u001b[38;5;250m \u001b[39m\u001b[34;01mpandas\u001b[39;00m\u001b[38;5;250m \u001b[39m\u001b[38;5;28;01mas\u001b[39;00m\u001b[38;5;250m \u001b[39m\u001b[34;01mpd\u001b[39;00m\n",
      "\u001b[31mModuleNotFoundError\u001b[39m: No module named 'pandas'"
     ]
    }
   ],
   "source": [
    "import pandas as pd"
   ]
  },
  {
   "cell_type": "code",
   "execution_count": null,
   "id": "5ea0beb4",
   "metadata": {},
   "outputs": [],
   "source": []
  }
 ],
 "metadata": {
  "kernelspec": {
   "display_name": ".venv",
   "language": "python",
   "name": "python3"
  },
  "language_info": {
   "codemirror_mode": {
    "name": "ipython",
    "version": 3
   },
   "file_extension": ".py",
   "mimetype": "text/x-python",
   "name": "python",
   "nbconvert_exporter": "python",
   "pygments_lexer": "ipython3",
   "version": "3.12.1"
  }
 },
 "nbformat": 4,
 "nbformat_minor": 5
}
